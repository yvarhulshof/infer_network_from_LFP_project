{
 "cells": [
  {
   "cell_type": "code",
   "execution_count": null,
   "metadata": {
    "pycharm": {
     "name": "#%%\n"
    },
    "tags": []
   },
   "outputs": [],
   "source": [
    "import numpy as np\n",
    "import pylab as plt\n",
    "from simulate_network import plot_data, run_simulation, evaluate\n",
    "import pandas as pd\n",
    "import scipy as sc\n",
    "%matplotlib inline"
   ]
  },
  {
   "cell_type": "code",
   "execution_count": null,
   "metadata": {},
   "outputs": [
    {
     "name": "stdout",
     "output_type": "stream",
     "text": [
      "Requirement already satisfied: pydmd in /opt/conda/envs/nest_env/lib/python3.10/site-packages (0.4.0.post2210)\n",
      "Requirement already satisfied: matplotlib in /opt/conda/envs/nest_env/lib/python3.10/site-packages (from pydmd) (3.5.3)\n",
      "Requirement already satisfied: ezyrb in /opt/conda/envs/nest_env/lib/python3.10/site-packages (from pydmd) (1.3.0.post2210)\n",
      "Requirement already satisfied: future in /opt/conda/envs/nest_env/lib/python3.10/site-packages (from pydmd) (0.18.2)\n",
      "Requirement already satisfied: numpy in /opt/conda/envs/nest_env/lib/python3.10/site-packages (from pydmd) (1.23.2)\n",
      "Requirement already satisfied: scipy in /opt/conda/envs/nest_env/lib/python3.10/site-packages (from pydmd) (1.9.0)\n",
      "Requirement already satisfied: torch in /opt/conda/envs/nest_env/lib/python3.10/site-packages (from ezyrb->pydmd) (1.12.1)\n",
      "Requirement already satisfied: scikit-learn>=1.0 in /opt/conda/envs/nest_env/lib/python3.10/site-packages (from ezyrb->pydmd) (1.1.2)\n",
      "Requirement already satisfied: packaging>=20.0 in /opt/conda/envs/nest_env/lib/python3.10/site-packages (from matplotlib->pydmd) (21.3)\n",
      "Requirement already satisfied: cycler>=0.10 in /opt/conda/envs/nest_env/lib/python3.10/site-packages (from matplotlib->pydmd) (0.11.0)\n",
      "Requirement already satisfied: kiwisolver>=1.0.1 in /opt/conda/envs/nest_env/lib/python3.10/site-packages (from matplotlib->pydmd) (1.4.4)\n",
      "Requirement already satisfied: pyparsing>=2.2.1 in /opt/conda/envs/nest_env/lib/python3.10/site-packages (from matplotlib->pydmd) (3.0.9)\n",
      "Requirement already satisfied: python-dateutil>=2.7 in /opt/conda/envs/nest_env/lib/python3.10/site-packages (from matplotlib->pydmd) (2.8.2)\n",
      "Requirement already satisfied: pillow>=6.2.0 in /opt/conda/envs/nest_env/lib/python3.10/site-packages (from matplotlib->pydmd) (9.2.0)\n",
      "Requirement already satisfied: fonttools>=4.22.0 in /opt/conda/envs/nest_env/lib/python3.10/site-packages (from matplotlib->pydmd) (4.37.1)\n",
      "Requirement already satisfied: six>=1.5 in /opt/conda/envs/nest_env/lib/python3.10/site-packages (from python-dateutil>=2.7->matplotlib->pydmd) (1.16.0)\n",
      "Requirement already satisfied: threadpoolctl>=2.0.0 in /opt/conda/envs/nest_env/lib/python3.10/site-packages (from scikit-learn>=1.0->ezyrb->pydmd) (3.1.0)\n",
      "Requirement already satisfied: joblib>=1.0.0 in /opt/conda/envs/nest_env/lib/python3.10/site-packages (from scikit-learn>=1.0->ezyrb->pydmd) (1.2.0)\n",
      "Requirement already satisfied: typing-extensions in /opt/conda/envs/nest_env/lib/python3.10/site-packages (from torch->ezyrb->pydmd) (4.4.0)\n",
      "\u001b[33mWARNING: Running pip as the 'root' user can result in broken permissions and conflicting behaviour with the system package manager. It is recommended to use a virtual environment instead: https://pip.pypa.io/warnings/venv\u001b[0m\u001b[33m\n",
      "\u001b[0m"
     ]
    }
   ],
   "source": [
    "import sys;\n",
    "!{sys.executable} -m pip install pydmd;\n",
    "import pydmd;\n",
    "\n",
    "%matplotlib inline\n",
    "import matplotlib.pyplot as plt\n",
    "import numpy as np\n",
    "from pydmd import DMD"
   ]
  },
  {
   "cell_type": "markdown",
   "metadata": {
    "pycharm": {
     "name": "#%% md\n"
    }
   },
   "source": [
    "We will obtain data from a network of spiking neurons. The data is a LFP-like signal obtained from 8 channels corresponding to different neural populations from which the signal is measured.\n",
    "The function *run_simulation* takes 5 optional arguments:\n",
    "* t_sim\n",
    "  [ms] simulation time (will be the length of the time dimension in ms).\n",
    "* stim_strength\n",
    "  [Hz] strength of external stimulation in Hz (if 0 no stimulation is applied).\n",
    "* stim_start\n",
    "  [ms] start of the applied external stimulation in ms.\n",
    "* stim_dur\n",
    "  [ms] duration of the applied external stimulation in ms.\n",
    "* population\n",
    "  *int* 0 to 7. refering to the population that the stimulation will be applied to.\n",
    "\n",
    "The function returns a numpy array which has a time-series for each of the populations."
   ]
  },
  {
   "cell_type": "code",
   "execution_count": 16,
   "metadata": {
    "pycharm": {
     "name": "#%%\n"
    }
   },
   "outputs": [],
   "source": [
    "#data = run_simulation(t_sim=1000, stim_strength=50, stim_start=500, stim_dur=10, population=0, output='V_m')"
   ]
  },
  {
   "cell_type": "code",
   "execution_count": 17,
   "metadata": {},
   "outputs": [
    {
     "name": "stdout",
     "output_type": "stream",
     "text": [
      "Run spiking neural network...\n",
      "\n",
      "              -- N E S T --\n",
      "  Copyright (C) 2004 The NEST Initiative\n",
      "\n",
      " Version: 3.3\n",
      " Built: Aug  9 2022 10:44:45\n",
      "\n",
      " This program is provided AS IS and comes with\n",
      " NO WARRANTY. See the file LICENSE for details.\n",
      "\n",
      " Problems or suggestions?\n",
      "   Visit https://www.nest-simulator.org\n",
      "\n",
      " Type 'nest.help()' to find out more about NEST.\n",
      "\n",
      "Collect data from file...\n",
      "\tPopulation 1/8\n",
      "\tPopulation 2/8\n",
      "\tPopulation 3/8\n",
      "\tPopulation 4/8\n",
      "\tPopulation 5/8\n",
      "\tPopulation 6/8\n",
      "\tPopulation 7/8\n",
      "\tPopulation 8/8\n"
     ]
    },
    {
     "name": "stderr",
     "output_type": "stream",
     "text": [
      "/home/computer_classes/infer_network_from_LFP_project/simulate_network.py:105: VisibleDeprecationWarning:Creating an ndarray from ragged nested sequences (which is a list-or-tuple of lists-or-tuples-or ndarrays with different lengths or shapes) is deprecated. If you meant to do this, you must specify 'dtype=object' when creating the ndarray.\n"
     ]
    },
    {
     "name": "stdout",
     "output_type": "stream",
     "text": [
      "Stored 'data' (ndarray)\n",
      "Stored 'data_neuron' (ndarray)\n"
     ]
    }
   ],
   "source": [
    "data, data_neuron = run_simulation(t_sim=1000, stim_strength=50, stim_start=500, stim_dur=10, population=0, output='V_m')\n",
    "%store data\n",
    "%store data_neuron"
   ]
  },
  {
   "cell_type": "code",
   "execution_count": 18,
   "metadata": {},
   "outputs": [],
   "source": [
    "def DMD2(data, r):\n",
    "    \"\"\"Dynamic Mode Decomposition (DMD) algorithm.\"\"\"\n",
    "    \n",
    "    ## Build data matrices\n",
    "    X1 = data[:, : -1]\n",
    "    X2 = data[:, 1 :]\n",
    "    ## Perform singular value decomposition on X1\n",
    "    u, s, v = np.linalg.svd(X1, full_matrices = False)\n",
    "    ## Compute the Koopman matrix\n",
    "    A_tilde = u[:, : r].conj().T @ X2 @ v[: r, :].conj().T * np.reciprocal(s[: r])\n",
    "    ## Perform eigenvalue decomposition on A_tilde\n",
    "    Phi, Q = np.linalg.eig(A_tilde)\n",
    "    ## Compute the coefficient matrix\n",
    "    Psi = X2 @ v[: r, :].conj().T @ np.diag(np.reciprocal(s[: r])) @ Q\n",
    "    A = Psi @ np.diag(Phi) @ np.linalg.pinv(Psi)\n",
    "    \n",
    "    return A_tilde, Phi, A\n",
    "\n",
    "def DMD4cast2(data, r, pred_step):\n",
    "    N, T = data.shape\n",
    "    _, _, A = DMD(data, r)\n",
    "    mat = np.append(data, np.zeros((N, pred_step)), axis = 1)\n",
    "    for s in range(pred_step):\n",
    "        mat[:, T + s] = (A @ mat[:, T + s - 1]).real\n",
    "    return mat[:, - pred_step :]"
   ]
  },
  {
   "cell_type": "code",
   "execution_count": 19,
   "metadata": {},
   "outputs": [
    {
     "data": {
      "text/plain": [
       "(2068000, 3)"
      ]
     },
     "execution_count": 19,
     "metadata": {},
     "output_type": "execute_result"
    }
   ],
   "source": [
    "data_neuron[0].shape"
   ]
  },
  {
   "cell_type": "code",
   "execution_count": 20,
   "metadata": {},
   "outputs": [
    {
     "data": {
      "text/plain": [
       "array([array([[ 1.0000e+00,  5.0000e+02, -6.6915e+01],\n",
       "              [ 2.0000e+00,  5.0000e+02, -6.2364e+01],\n",
       "              [ 3.0000e+00,  5.0000e+02, -5.8002e+01],\n",
       "              ...,\n",
       "              [ 2.0660e+03,  1.4990e+03, -6.3237e+01],\n",
       "              [ 2.0670e+03,  1.4990e+03, -6.5508e+01],\n",
       "              [ 2.0680e+03,  1.4990e+03, -5.4157e+01]]),\n",
       "       array([[2069.   ,  500.   ,  -62.591],\n",
       "              [2070.   ,  500.   ,  -56.03 ],\n",
       "              [2071.   ,  500.   ,  -54.783],\n",
       "              ...,\n",
       "              [2649.   , 1499.   ,  -56.818],\n",
       "              [2650.   , 1499.   ,  -60.357],\n",
       "              [2651.   , 1499.   ,  -53.9  ]]),\n",
       "       array([[2652.   ,  500.   ,  -56.587],\n",
       "              [2653.   ,  500.   ,  -55.631],\n",
       "              [2654.   ,  500.   ,  -55.836],\n",
       "              ...,\n",
       "              [4841.   , 1499.   ,  -65.746],\n",
       "              [4842.   , 1499.   ,  -62.234],\n",
       "              [4843.   , 1499.   ,  -54.433]]),\n",
       "       array([[4844.   ,  500.   ,  -57.1  ],\n",
       "              [4845.   ,  500.   ,  -56.967],\n",
       "              [4846.   ,  500.   ,  -59.353],\n",
       "              ...,\n",
       "              [5389.   , 1499.   ,  -53.295],\n",
       "              [5390.   , 1499.   ,  -52.556],\n",
       "              [5391.   , 1499.   ,  -58.723]]),\n",
       "       array([[5392.   ,  500.   ,  -53.057],\n",
       "              [5393.   ,  500.   ,  -60.752],\n",
       "              [5394.   ,  500.   ,  -52.573],\n",
       "              ...,\n",
       "              [5874.   , 1499.   ,  -56.139],\n",
       "              [5875.   , 1499.   ,  -52.62 ],\n",
       "              [5876.   , 1499.   ,  -59.718]]),\n",
       "       array([[5877.   ,  500.   ,  -55.848],\n",
       "              [5878.   ,  500.   ,  -61.038],\n",
       "              [5879.   ,  500.   ,  -51.314],\n",
       "              ...,\n",
       "              [5980.   , 1499.   ,  -54.887],\n",
       "              [5981.   , 1499.   ,  -60.884],\n",
       "              [5982.   , 1499.   ,  -55.091]]),\n",
       "       array([[5983.   ,  500.   ,  -56.92 ],\n",
       "              [5984.   ,  500.   ,  -60.72 ],\n",
       "              [5985.   ,  500.   ,  -57.109],\n",
       "              ...,\n",
       "              [7420.   , 1499.   ,  -58.175],\n",
       "              [7421.   , 1499.   ,  -58.252],\n",
       "              [7422.   , 1499.   ,  -62.784]]),\n",
       "       array([[7423.   ,  500.   ,  -63.272],\n",
       "              [7424.   ,  500.   ,  -62.491],\n",
       "              [7425.   ,  500.   ,  -54.378],\n",
       "              ...,\n",
       "              [7715.   , 1499.   ,  -57.931],\n",
       "              [7716.   , 1499.   ,  -56.326],\n",
       "              [7717.   , 1499.   ,  -60.082]])], dtype=object)"
      ]
     },
     "execution_count": 20,
     "metadata": {},
     "output_type": "execute_result"
    }
   ],
   "source": [
    "data_neuron"
   ]
  },
  {
   "cell_type": "code",
   "execution_count": 21,
   "metadata": {},
   "outputs": [
    {
     "data": {
      "text/plain": [
       "array([[ 1.0000e+00,  5.0000e+02, -6.6915e+01],\n",
       "       [ 2.0000e+00,  5.0000e+02, -6.2364e+01],\n",
       "       [ 3.0000e+00,  5.0000e+02, -5.8002e+01],\n",
       "       ...,\n",
       "       [ 2.0660e+03,  1.4990e+03, -6.3237e+01],\n",
       "       [ 2.0670e+03,  1.4990e+03, -6.5508e+01],\n",
       "       [ 2.0680e+03,  1.4990e+03, -5.4157e+01]])"
      ]
     },
     "execution_count": 21,
     "metadata": {},
     "output_type": "execute_result"
    }
   ],
   "source": [
    "data_neuron[0]"
   ]
  },
  {
   "cell_type": "code",
   "execution_count": 22,
   "metadata": {},
   "outputs": [
    {
     "data": {
      "text/plain": [
       "[2068, 583, 2192, 548, 485, 106, 1440, 295]"
      ]
     },
     "execution_count": 22,
     "metadata": {},
     "output_type": "execute_result"
    }
   ],
   "source": [
    "index_list =  []\n",
    "for i in range(8):\n",
    "    index_list.append((data_neuron[i].shape[0] / 1000))\n",
    "          \n",
    "index_list = [int(x) for x in index_list] \n",
    "index_list"
   ]
  },
  {
   "cell_type": "code",
   "execution_count": 23,
   "metadata": {},
   "outputs": [],
   "source": [
    "# for each time point, get the voltage values of all neurons\n",
    "# in a single column\n",
    "\n",
    "neuron_data = []\n",
    "for t in range(1000):\n",
    "    pop_list = []\n",
    "    for i in range(8):\n",
    "        pop_vs = data_neuron[i][:, 2][index_list[i]*t: index_list[i]*(t+1)]\n",
    "        pop_list.append(pop_vs)\n",
    "    \n",
    "    pop_flat_list = [item for sublist in pop_list for item in sublist]\n",
    "    neuron_data.append(pop_flat_list)\n"
   ]
  },
  {
   "cell_type": "code",
   "execution_count": 24,
   "metadata": {},
   "outputs": [
    {
     "data": {
      "text/plain": [
       "(1000, 7717)"
      ]
     },
     "execution_count": 24,
     "metadata": {},
     "output_type": "execute_result"
    }
   ],
   "source": [
    "neuron_data_arr = np.array(neuron_data)\n",
    "neuron_data_arr.shape"
   ]
  },
  {
   "cell_type": "code",
   "execution_count": 25,
   "metadata": {},
   "outputs": [
    {
     "data": {
      "text/plain": [
       "<pydmd.dmd.DMD at 0x7f2a085778e0>"
      ]
     },
     "execution_count": 25,
     "metadata": {},
     "output_type": "execute_result"
    }
   ],
   "source": [
    "X1_n = neuron_data_arr[:, :-1]\n",
    "X2_n = neuron_data_arr[:, 1:]\n",
    "X_n = X1_n + X2_n\n",
    "\n",
    "dmd_n = DMD(svd_rank=4)\n",
    "dmd_n.fit(X_n)"
   ]
  },
  {
   "cell_type": "code",
   "execution_count": 26,
   "metadata": {},
   "outputs": [
    {
     "name": "stdout",
     "output_type": "stream",
     "text": [
      "[0.99999557 0.97970411]\n"
     ]
    }
   ],
   "source": [
    "A_tilde_n, Phi_n, A_n = DMD2(neuron_data_arr.T, 2)\n",
    "print(Phi_n)"
   ]
  },
  {
   "cell_type": "code",
   "execution_count": 27,
   "metadata": {},
   "outputs": [
    {
     "data": {
      "text/plain": [
       "array([0.99999557, 0.97970411])"
      ]
     },
     "execution_count": 27,
     "metadata": {},
     "output_type": "execute_result"
    }
   ],
   "source": [
    "Phi_n"
   ]
  },
  {
   "cell_type": "code",
   "execution_count": 28,
   "metadata": {},
   "outputs": [
    {
     "data": {
      "text/plain": [
       "(7717, 7717)"
      ]
     },
     "execution_count": 28,
     "metadata": {},
     "output_type": "execute_result"
    }
   ],
   "source": [
    "A_n.shape"
   ]
  },
  {
   "cell_type": "code",
   "execution_count": 29,
   "metadata": {},
   "outputs": [
    {
     "data": {
      "text/plain": [
       "array([[9.99993065e-01, 6.08598947e-02],\n",
       "       [8.35451589e-07, 9.79706616e-01]])"
      ]
     },
     "execution_count": 29,
     "metadata": {},
     "output_type": "execute_result"
    }
   ],
   "source": [
    "A_tilde_n"
   ]
  },
  {
   "cell_type": "code",
   "execution_count": 30,
   "metadata": {},
   "outputs": [],
   "source": [
    "# import scipy as sc\n",
    "# A_cont_n = np.real(sc.linalg.logm(np.real(A_n)))\n",
    "# #A_cont = np.real(A)\n",
    "# A_cont_scaled_n = A_cont_n / np.linalg.norm(A_cont_n)\n",
    "\n",
    "# #sns.heatmap(A_cont_scaled)\n",
    "# plt.figure()\n",
    "# plt.imshow(A_cont_scaled_n, cmap='bwr', vmin=-1, vmax=1)\n",
    "# plt.colorbar()"
   ]
  },
  {
   "cell_type": "code",
   "execution_count": 31,
   "metadata": {},
   "outputs": [
    {
     "ename": "KeyboardInterrupt",
     "evalue": "",
     "output_type": "error",
     "traceback": [
      "\u001b[0;31m---------------------------------------------------------------------------\u001b[0m",
      "\u001b[0;31mKeyboardInterrupt\u001b[0m                         Traceback (most recent call last)",
      "Input \u001b[0;32mIn [31]\u001b[0m, in \u001b[0;36m<cell line: 2>\u001b[0;34m()\u001b[0m\n\u001b[1;32m      1\u001b[0m \u001b[38;5;66;03m# a 2D array with linearly increasing values on the diagonal\u001b[39;00m\n\u001b[0;32m----> 2\u001b[0m A_cont_n \u001b[38;5;241m=\u001b[39m np\u001b[38;5;241m.\u001b[39mreal(\u001b[43msc\u001b[49m\u001b[38;5;241;43m.\u001b[39;49m\u001b[43mlinalg\u001b[49m\u001b[38;5;241;43m.\u001b[39;49m\u001b[43mlogm\u001b[49m\u001b[43m(\u001b[49m\u001b[43mnp\u001b[49m\u001b[38;5;241;43m.\u001b[39;49m\u001b[43mreal\u001b[49m\u001b[43m(\u001b[49m\u001b[43mA_n\u001b[49m\u001b[43m)\u001b[49m\u001b[43m)\u001b[49m)\n\u001b[1;32m      3\u001b[0m \u001b[38;5;66;03m# #A_cont = np.real(A)\u001b[39;00m\n\u001b[1;32m      4\u001b[0m A_cont_scaled_n \u001b[38;5;241m=\u001b[39m A_cont_n \u001b[38;5;241m/\u001b[39m np\u001b[38;5;241m.\u001b[39mlinalg\u001b[38;5;241m.\u001b[39mnorm(A_cont_n)\n",
      "File \u001b[0;32m/opt/conda/envs/nest_env/lib/python3.10/site-packages/scipy/linalg/_matfuncs.py:200\u001b[0m, in \u001b[0;36mlogm\u001b[0;34m(A, disp)\u001b[0m\n\u001b[1;32m    198\u001b[0m \u001b[38;5;66;03m# Avoid circular import ... this is OK, right?\u001b[39;00m\n\u001b[1;32m    199\u001b[0m \u001b[38;5;28;01mimport\u001b[39;00m \u001b[38;5;21;01mscipy\u001b[39;00m\u001b[38;5;21;01m.\u001b[39;00m\u001b[38;5;21;01mlinalg\u001b[39;00m\u001b[38;5;21;01m.\u001b[39;00m\u001b[38;5;21;01m_matfuncs_inv_ssq\u001b[39;00m\n\u001b[0;32m--> 200\u001b[0m F \u001b[38;5;241m=\u001b[39m \u001b[43mscipy\u001b[49m\u001b[38;5;241;43m.\u001b[39;49m\u001b[43mlinalg\u001b[49m\u001b[38;5;241;43m.\u001b[39;49m\u001b[43m_matfuncs_inv_ssq\u001b[49m\u001b[38;5;241;43m.\u001b[39;49m\u001b[43m_logm\u001b[49m\u001b[43m(\u001b[49m\u001b[43mA\u001b[49m\u001b[43m)\u001b[49m\n\u001b[1;32m    201\u001b[0m F \u001b[38;5;241m=\u001b[39m _maybe_real(A, F)\n\u001b[1;32m    202\u001b[0m errtol \u001b[38;5;241m=\u001b[39m \u001b[38;5;241m1000\u001b[39m\u001b[38;5;241m*\u001b[39meps\n",
      "File \u001b[0;32m/opt/conda/envs/nest_env/lib/python3.10/site-packages/scipy/linalg/_matfuncs_inv_ssq.py:880\u001b[0m, in \u001b[0;36m_logm\u001b[0;34m(A)\u001b[0m\n\u001b[1;32m    878\u001b[0m     T, Z \u001b[38;5;241m=\u001b[39m schur(A, output\u001b[38;5;241m=\u001b[39m\u001b[38;5;124m'\u001b[39m\u001b[38;5;124mcomplex\u001b[39m\u001b[38;5;124m'\u001b[39m)\n\u001b[1;32m    879\u001b[0m T \u001b[38;5;241m=\u001b[39m _logm_force_nonsingular_triangular_matrix(T, inplace\u001b[38;5;241m=\u001b[39m\u001b[38;5;28;01mTrue\u001b[39;00m)\n\u001b[0;32m--> 880\u001b[0m U \u001b[38;5;241m=\u001b[39m \u001b[43m_logm_triu\u001b[49m\u001b[43m(\u001b[49m\u001b[43mT\u001b[49m\u001b[43m)\u001b[49m\n\u001b[1;32m    881\u001b[0m ZH \u001b[38;5;241m=\u001b[39m np\u001b[38;5;241m.\u001b[39mconjugate(Z)\u001b[38;5;241m.\u001b[39mT\n\u001b[1;32m    882\u001b[0m \u001b[38;5;28;01mreturn\u001b[39;00m Z\u001b[38;5;241m.\u001b[39mdot(U)\u001b[38;5;241m.\u001b[39mdot(ZH)\n",
      "File \u001b[0;32m/opt/conda/envs/nest_env/lib/python3.10/site-packages/scipy/linalg/_matfuncs_inv_ssq.py:777\u001b[0m, in \u001b[0;36m_logm_triu\u001b[0;34m(T)\u001b[0m\n\u001b[1;32m    770\u001b[0m \u001b[38;5;66;03m# Define bounds given in Table (2.1).\u001b[39;00m\n\u001b[1;32m    771\u001b[0m theta \u001b[38;5;241m=\u001b[39m (\u001b[38;5;28;01mNone\u001b[39;00m,\n\u001b[1;32m    772\u001b[0m         \u001b[38;5;241m1.59e-5\u001b[39m, \u001b[38;5;241m2.31e-3\u001b[39m, \u001b[38;5;241m1.94e-2\u001b[39m, \u001b[38;5;241m6.21e-2\u001b[39m,\n\u001b[1;32m    773\u001b[0m         \u001b[38;5;241m1.28e-1\u001b[39m, \u001b[38;5;241m2.06e-1\u001b[39m, \u001b[38;5;241m2.88e-1\u001b[39m, \u001b[38;5;241m3.67e-1\u001b[39m,\n\u001b[1;32m    774\u001b[0m         \u001b[38;5;241m4.39e-1\u001b[39m, \u001b[38;5;241m5.03e-1\u001b[39m, \u001b[38;5;241m5.60e-1\u001b[39m, \u001b[38;5;241m6.09e-1\u001b[39m,\n\u001b[1;32m    775\u001b[0m         \u001b[38;5;241m6.52e-1\u001b[39m, \u001b[38;5;241m6.89e-1\u001b[39m, \u001b[38;5;241m7.21e-1\u001b[39m, \u001b[38;5;241m7.49e-1\u001b[39m)\n\u001b[0;32m--> 777\u001b[0m R, s, m \u001b[38;5;241m=\u001b[39m \u001b[43m_inverse_squaring_helper\u001b[49m\u001b[43m(\u001b[49m\u001b[43mT0\u001b[49m\u001b[43m,\u001b[49m\u001b[43m \u001b[49m\u001b[43mtheta\u001b[49m\u001b[43m)\u001b[49m\n\u001b[1;32m    779\u001b[0m \u001b[38;5;66;03m# Evaluate U = 2**s r_m(T - I) using the partial fraction expansion (1.1).\u001b[39;00m\n\u001b[1;32m    780\u001b[0m \u001b[38;5;66;03m# This requires the nodes and weights\u001b[39;00m\n\u001b[1;32m    781\u001b[0m \u001b[38;5;66;03m# corresponding to degree-m Gauss-Legendre quadrature.\u001b[39;00m\n\u001b[1;32m    782\u001b[0m \u001b[38;5;66;03m# These quadrature arrays need to be transformed from the [-1, 1] interval\u001b[39;00m\n\u001b[1;32m    783\u001b[0m \u001b[38;5;66;03m# to the [0, 1] interval.\u001b[39;00m\n\u001b[1;32m    784\u001b[0m nodes, weights \u001b[38;5;241m=\u001b[39m scipy\u001b[38;5;241m.\u001b[39mspecial\u001b[38;5;241m.\u001b[39mp_roots(m)\n",
      "File \u001b[0;32m/opt/conda/envs/nest_env/lib/python3.10/site-packages/scipy/linalg/_matfuncs_inv_ssq.py:416\u001b[0m, in \u001b[0;36m_inverse_squaring_helper\u001b[0;34m(T0, theta)\u001b[0m\n\u001b[1;32m    414\u001b[0m     \u001b[38;5;28;01mif\u001b[39;00m m \u001b[38;5;129;01mis\u001b[39;00m \u001b[38;5;129;01mnot\u001b[39;00m \u001b[38;5;28;01mNone\u001b[39;00m:\n\u001b[1;32m    415\u001b[0m         \u001b[38;5;28;01mbreak\u001b[39;00m\n\u001b[0;32m--> 416\u001b[0m     T \u001b[38;5;241m=\u001b[39m \u001b[43m_sqrtm_triu\u001b[49m\u001b[43m(\u001b[49m\u001b[43mT\u001b[49m\u001b[43m)\u001b[49m\n\u001b[1;32m    417\u001b[0m     s \u001b[38;5;241m+\u001b[39m\u001b[38;5;241m=\u001b[39m \u001b[38;5;241m1\u001b[39m\n\u001b[1;32m    419\u001b[0m \u001b[38;5;66;03m# The subtraction of the identity is redundant here,\u001b[39;00m\n\u001b[1;32m    420\u001b[0m \u001b[38;5;66;03m# because the diagonal will be replaced for improved numerical accuracy,\u001b[39;00m\n\u001b[1;32m    421\u001b[0m \u001b[38;5;66;03m# but this formulation should help clarify the meaning of R.\u001b[39;00m\n",
      "File \u001b[0;32m/opt/conda/envs/nest_env/lib/python3.10/site-packages/scipy/linalg/_matfuncs_sqrtm.py:99\u001b[0m, in \u001b[0;36m_sqrtm_triu\u001b[0;34m(T, blocksize)\u001b[0m\n\u001b[1;32m     97\u001b[0m S \u001b[38;5;241m=\u001b[39m T[istart:istop, jstart:jstop]\n\u001b[1;32m     98\u001b[0m \u001b[38;5;28;01mif\u001b[39;00m j \u001b[38;5;241m-\u001b[39m i \u001b[38;5;241m>\u001b[39m \u001b[38;5;241m1\u001b[39m:\n\u001b[0;32m---> 99\u001b[0m     S \u001b[38;5;241m=\u001b[39m S \u001b[38;5;241m-\u001b[39m \u001b[43mR\u001b[49m\u001b[43m[\u001b[49m\u001b[43mistart\u001b[49m\u001b[43m:\u001b[49m\u001b[43mistop\u001b[49m\u001b[43m,\u001b[49m\u001b[43m \u001b[49m\u001b[43mistop\u001b[49m\u001b[43m:\u001b[49m\u001b[43mjstart\u001b[49m\u001b[43m]\u001b[49m\u001b[38;5;241;43m.\u001b[39;49m\u001b[43mdot\u001b[49m\u001b[43m(\u001b[49m\u001b[43mR\u001b[49m\u001b[43m[\u001b[49m\u001b[43mistop\u001b[49m\u001b[43m:\u001b[49m\u001b[43mjstart\u001b[49m\u001b[43m,\u001b[49m\n\u001b[1;32m    100\u001b[0m \u001b[43m                                                \u001b[49m\u001b[43mjstart\u001b[49m\u001b[43m:\u001b[49m\u001b[43mjstop\u001b[49m\u001b[43m]\u001b[49m\u001b[43m)\u001b[49m\n\u001b[1;32m    102\u001b[0m \u001b[38;5;66;03m# Invoke LAPACK.\u001b[39;00m\n\u001b[1;32m    103\u001b[0m \u001b[38;5;66;03m# For more details, see the solve_sylvester implemention\u001b[39;00m\n\u001b[1;32m    104\u001b[0m \u001b[38;5;66;03m# and the fortran dtrsyl and ztrsyl docs.\u001b[39;00m\n\u001b[1;32m    105\u001b[0m Rii \u001b[38;5;241m=\u001b[39m R[istart:istop, istart:istop]\n",
      "\u001b[0;31mKeyboardInterrupt\u001b[0m: "
     ]
    }
   ],
   "source": [
    "# a 2D array with linearly increasing values on the diagonal\n",
    "A_cont_n = np.real(sc.linalg.logm(np.real(A_n)))\n",
    "# #A_cont = np.real(A)\n",
    "A_cont_scaled_n = A_cont_n / np.linalg.norm(A_cont_n)"
   ]
  },
  {
   "cell_type": "code",
   "execution_count": null,
   "metadata": {},
   "outputs": [],
   "source": [
    "plt.matshow(A_cont_scaled)\n",
    "\n",
    "plt.show()"
   ]
  },
  {
   "cell_type": "code",
   "execution_count": null,
   "metadata": {},
   "outputs": [
    {
     "data": {
      "text/plain": [
       "8"
      ]
     },
     "execution_count": 23,
     "metadata": {},
     "output_type": "execute_result"
    }
   ],
   "source": [
    "len(pop_list)"
   ]
  },
  {
   "cell_type": "code",
   "execution_count": null,
   "metadata": {},
   "outputs": [],
   "source": [
    "data_full_df = pd.DataFrame(data_full[1])"
   ]
  },
  {
   "cell_type": "code",
   "execution_count": null,
   "metadata": {},
   "outputs": [],
   "source": [
    "col1 = set(data_full_df.iloc[:, 0])"
   ]
  },
  {
   "cell_type": "code",
   "execution_count": null,
   "metadata": {},
   "outputs": [],
   "source": [
    "col1"
   ]
  },
  {
   "cell_type": "code",
   "execution_count": null,
   "metadata": {},
   "outputs": [],
   "source": [
    "len(col1)"
   ]
  },
  {
   "cell_type": "code",
   "execution_count": null,
   "metadata": {},
   "outputs": [],
   "source": [
    "data_lpf = data[0]"
   ]
  },
  {
   "cell_type": "code",
   "execution_count": null,
   "metadata": {},
   "outputs": [],
   "source": [
    "np.savetxt('data_lpf.csv', data_lpf, delimiter=',')"
   ]
  },
  {
   "cell_type": "code",
   "execution_count": null,
   "metadata": {},
   "outputs": [],
   "source": [
    "len(data[0])"
   ]
  },
  {
   "cell_type": "code",
   "execution_count": null,
   "metadata": {},
   "outputs": [],
   "source": [
    "len(data)"
   ]
  },
  {
   "cell_type": "code",
   "execution_count": null,
   "metadata": {},
   "outputs": [],
   "source": [
    "for i in range("
   ]
  },
  {
   "cell_type": "code",
   "execution_count": null,
   "metadata": {},
   "outputs": [],
   "source": [
    "# import csv\n",
    "\n",
    "# #list_of_tuples = [(1, 'one'), (2, 'two'), (3, 'three')]\n",
    "\n",
    "# # ✅ Write list of tuples to text file (formatted string literal)\n",
    "# with open('lpf_data.txt', 'w', encoding='utf-8') as f:\n",
    "#     f.write('\\n'.join(f'{tup[0]} {tup[1]}' for tup in list_of_tuples))"
   ]
  },
  {
   "cell_type": "code",
   "execution_count": null,
   "metadata": {
    "pycharm": {
     "name": "#%%\n"
    }
   },
   "outputs": [],
   "source": [
    "print(data[1])\n",
    "data = data[0]\n",
    "data.shape"
   ]
  },
  {
   "cell_type": "code",
   "execution_count": null,
   "metadata": {},
   "outputs": [],
   "source": [
    "data = data_lpf"
   ]
  },
  {
   "cell_type": "code",
   "execution_count": null,
   "metadata": {},
   "outputs": [],
   "source": [
    "data.T.shape"
   ]
  },
  {
   "cell_type": "code",
   "execution_count": null,
   "metadata": {},
   "outputs": [],
   "source": [
    "# plt.plot(data.T, label=np.arange(8))\n",
    "# plt.legend()\n",
    "# plt.show()"
   ]
  },
  {
   "cell_type": "code",
   "execution_count": null,
   "metadata": {},
   "outputs": [],
   "source": [
    "plot_data(data)"
   ]
  },
  {
   "cell_type": "code",
   "execution_count": null,
   "metadata": {},
   "outputs": [],
   "source": [
    "# for i in range(8):\n",
    "#     plt.figure()\n",
    "#     plt.plot(data.T[:, i])\n",
    "#     plt.title(i)"
   ]
  },
  {
   "cell_type": "code",
   "execution_count": null,
   "metadata": {},
   "outputs": [],
   "source": [
    "data_df = pd.DataFrame(data)"
   ]
  },
  {
   "cell_type": "code",
   "execution_count": null,
   "metadata": {},
   "outputs": [],
   "source": [
    "data_df.head()"
   ]
  },
  {
   "cell_type": "code",
   "execution_count": null,
   "metadata": {},
   "outputs": [],
   "source": [
    "col1 = set(data_df.iloc[:, 0])"
   ]
  },
  {
   "cell_type": "code",
   "execution_count": null,
   "metadata": {},
   "outputs": [],
   "source": [
    "#col1"
   ]
  },
  {
   "cell_type": "code",
   "execution_count": null,
   "metadata": {},
   "outputs": [],
   "source": [
    "len(col1)"
   ]
  },
  {
   "cell_type": "code",
   "execution_count": null,
   "metadata": {},
   "outputs": [],
   "source": [
    "data_df.shape"
   ]
  },
  {
   "cell_type": "code",
   "execution_count": null,
   "metadata": {},
   "outputs": [],
   "source": [
    "data_df_T = data_df.T"
   ]
  },
  {
   "cell_type": "code",
   "execution_count": null,
   "metadata": {},
   "outputs": [],
   "source": [
    "data_df_T.head()"
   ]
  },
  {
   "cell_type": "code",
   "execution_count": null,
   "metadata": {},
   "outputs": [],
   "source": [
    "data_df_T.describe()"
   ]
  },
  {
   "cell_type": "code",
   "execution_count": null,
   "metadata": {},
   "outputs": [],
   "source": [
    "len(data[0])"
   ]
  },
  {
   "cell_type": "code",
   "execution_count": null,
   "metadata": {},
   "outputs": [],
   "source": []
  },
  {
   "cell_type": "code",
   "execution_count": null,
   "metadata": {},
   "outputs": [
    {
     "name": "stdout",
     "output_type": "stream",
     "text": [
      "[0.99999369 0.88899969]\n"
     ]
    }
   ],
   "source": [
    "# Koopman matrix, eigenvalues, and coefficient matrix.\n",
    "A_tilde, Phi, A = DMD2(data, 2)\n",
    "print(Phi)"
   ]
  },
  {
   "cell_type": "code",
   "execution_count": null,
   "metadata": {},
   "outputs": [],
   "source": [
    "# Predicting next 2 time steps for example\n",
    "#mat_hat = DMD4cast(data, 2, 2)\n",
    "#print(mat_hat)"
   ]
  },
  {
   "cell_type": "code",
   "execution_count": null,
   "metadata": {},
   "outputs": [
    {
     "data": {
      "text/plain": [
       "<function matplotlib.pyplot.show(*, block=None)>"
      ]
     },
     "execution_count": 57,
     "metadata": {},
     "output_type": "execute_result"
    }
   ],
   "source": [
    "import matplotlib.pyplot as plt\n",
    "\n",
    "x= [ele.real for ele in Phi]\n",
    "y= [ele.imag for ele in Phi]\n",
    "\n",
    "plt.scatter(x,y)\n",
    "plt.show"
   ]
  },
  {
   "cell_type": "code",
   "execution_count": null,
   "metadata": {},
   "outputs": [],
   "source": [
    "temp = [ele.real for ele in Phi]"
   ]
  },
  {
   "cell_type": "code",
   "execution_count": null,
   "metadata": {},
   "outputs": [
    {
     "data": {
      "text/plain": [
       "[0.9999936888808555, 0.8889996922898752]"
      ]
     },
     "execution_count": 59,
     "metadata": {},
     "output_type": "execute_result"
    }
   ],
   "source": [
    "temp"
   ]
  },
  {
   "cell_type": "code",
   "execution_count": null,
   "metadata": {},
   "outputs": [
    {
     "name": "stdout",
     "output_type": "stream",
     "text": [
      "Requirement already satisfied: seaborn in /opt/conda/envs/nest_env/lib/python3.10/site-packages (0.12.0)\n",
      "Requirement already satisfied: numpy>=1.17 in /opt/conda/envs/nest_env/lib/python3.10/site-packages (from seaborn) (1.23.2)\n",
      "Requirement already satisfied: pandas>=0.25 in /opt/conda/envs/nest_env/lib/python3.10/site-packages (from seaborn) (1.4.3)\n",
      "Requirement already satisfied: matplotlib>=3.1 in /opt/conda/envs/nest_env/lib/python3.10/site-packages (from seaborn) (3.5.3)\n",
      "Requirement already satisfied: kiwisolver>=1.0.1 in /opt/conda/envs/nest_env/lib/python3.10/site-packages (from matplotlib>=3.1->seaborn) (1.4.4)\n",
      "Requirement already satisfied: packaging>=20.0 in /opt/conda/envs/nest_env/lib/python3.10/site-packages (from matplotlib>=3.1->seaborn) (21.3)\n",
      "Requirement already satisfied: pyparsing>=2.2.1 in /opt/conda/envs/nest_env/lib/python3.10/site-packages (from matplotlib>=3.1->seaborn) (3.0.9)\n",
      "Requirement already satisfied: cycler>=0.10 in /opt/conda/envs/nest_env/lib/python3.10/site-packages (from matplotlib>=3.1->seaborn) (0.11.0)\n",
      "Requirement already satisfied: python-dateutil>=2.7 in /opt/conda/envs/nest_env/lib/python3.10/site-packages (from matplotlib>=3.1->seaborn) (2.8.2)\n",
      "Requirement already satisfied: fonttools>=4.22.0 in /opt/conda/envs/nest_env/lib/python3.10/site-packages (from matplotlib>=3.1->seaborn) (4.37.1)\n",
      "Requirement already satisfied: pillow>=6.2.0 in /opt/conda/envs/nest_env/lib/python3.10/site-packages (from matplotlib>=3.1->seaborn) (9.2.0)\n",
      "Requirement already satisfied: pytz>=2020.1 in /opt/conda/envs/nest_env/lib/python3.10/site-packages (from pandas>=0.25->seaborn) (2022.2.1)\n",
      "Requirement already satisfied: six>=1.5 in /opt/conda/envs/nest_env/lib/python3.10/site-packages (from python-dateutil>=2.7->matplotlib>=3.1->seaborn) (1.16.0)\n",
      "\u001b[33mWARNING: Running pip as the 'root' user can result in broken permissions and conflicting behaviour with the system package manager. It is recommended to use a virtual environment instead: https://pip.pypa.io/warnings/venv\u001b[0m\u001b[33m\n",
      "\u001b[0m"
     ]
    }
   ],
   "source": [
    "!{sys.executable} -m pip install seaborn;"
   ]
  },
  {
   "cell_type": "code",
   "execution_count": null,
   "metadata": {},
   "outputs": [],
   "source": []
  },
  {
   "cell_type": "code",
   "execution_count": null,
   "metadata": {},
   "outputs": [
    {
     "data": {
      "text/plain": [
       "<pydmd.dmd.DMD at 0x7f28ae452f80>"
      ]
     },
     "execution_count": 61,
     "metadata": {},
     "output_type": "execute_result"
    }
   ],
   "source": [
    "X1 = data[:, : -1]\n",
    "X2 = data[:, 1 :]\n",
    "X= X1 + X2 \n",
    "\n",
    "dmd = DMD(svd_rank=4)\n",
    "dmd.fit(X)"
   ]
  },
  {
   "cell_type": "code",
   "execution_count": null,
   "metadata": {},
   "outputs": [
    {
     "name": "stdout",
     "output_type": "stream",
     "text": [
      "Eigenvalue (0.999996577444333+0j): distance from unit circle 6.84509962012303e-06\n",
      "Eigenvalue (0.9246097887485765+0.02418487418450824j): distance from unit circle 0.14451183041099236\n",
      "Eigenvalue (0.9246097887485765-0.02418487418450824j): distance from unit circle 0.14451183041099236\n",
      "Eigenvalue (0.8890908558999029+0j): distance from unit circle 0.20951744995517807\n"
     ]
    }
   ],
   "source": [
    "for eig in dmd.eigs:\n",
    "    print('Eigenvalue {}: distance from unit circle {}'.format(eig, np.abs(eig.imag**2+eig.real**2 - 1)))\n",
    "\n",
    "dmd.plot_eigs(show_axes=True, show_unit_circle=True)"
   ]
  },
  {
   "cell_type": "code",
   "execution_count": null,
   "metadata": {},
   "outputs": [],
   "source": [
    "x= np.linspace(0, 7, 8)\n",
    "t = np.linspace(0, 996, 997)\n",
    "\n",
    "for mode in dmd.modes.T:\n",
    "    plt.plot(x, mode.real)\n",
    "    plt.title('Modes')\n",
    "plt.show()\n",
    "\n",
    "for dynamic in dmd.dynamics:\n",
    "    plt.plot(t, dynamic.real)\n",
    "    plt.title('Dynamics')\n",
    "plt.show()"
   ]
  },
  {
   "cell_type": "code",
   "execution_count": null,
   "metadata": {},
   "outputs": [],
   "source": [
    "#np.linspace(dynamic.real.shape)"
   ]
  },
  {
   "cell_type": "code",
   "execution_count": null,
   "metadata": {},
   "outputs": [
    {
     "data": {
      "text/plain": [
       "(997,)"
      ]
     },
     "execution_count": 65,
     "metadata": {},
     "output_type": "execute_result"
    }
   ],
   "source": [
    "temp = dynamic.real\n",
    "temp.shape"
   ]
  },
  {
   "cell_type": "code",
   "execution_count": null,
   "metadata": {},
   "outputs": [],
   "source": []
  },
  {
   "cell_type": "code",
   "execution_count": null,
   "metadata": {},
   "outputs": [
    {
     "data": {
      "text/plain": [
       "(8,)"
      ]
     },
     "execution_count": 66,
     "metadata": {},
     "output_type": "execute_result"
    }
   ],
   "source": [
    "x.shape"
   ]
  },
  {
   "cell_type": "code",
   "execution_count": null,
   "metadata": {},
   "outputs": [
    {
     "data": {
      "text/plain": [
       "(997,)"
      ]
     },
     "execution_count": 67,
     "metadata": {},
     "output_type": "execute_result"
    }
   ],
   "source": [
    "t.shape"
   ]
  },
  {
   "cell_type": "code",
   "execution_count": null,
   "metadata": {},
   "outputs": [],
   "source": [
    "xgrid, tgrid = np.meshgrid(x, t)"
   ]
  },
  {
   "cell_type": "code",
   "execution_count": null,
   "metadata": {},
   "outputs": [
    {
     "data": {
      "text/plain": [
       "(2, 2)"
      ]
     },
     "execution_count": 69,
     "metadata": {},
     "output_type": "execute_result"
    }
   ],
   "source": [
    "A_tilde.shape"
   ]
  },
  {
   "cell_type": "code",
   "execution_count": null,
   "metadata": {},
   "outputs": [
    {
     "name": "stdout",
     "output_type": "stream",
     "text": [
      "[[ 9.99997030e-01 -6.77265887e-02]\n",
      " [ 5.47518534e-06  8.88996352e-01]]\n"
     ]
    }
   ],
   "source": [
    "print(A_tilde)"
   ]
  },
  {
   "cell_type": "code",
   "execution_count": null,
   "metadata": {},
   "outputs": [
    {
     "data": {
      "text/plain": [
       "<AxesSubplot:title={'center':'Dynamics'}>"
      ]
     },
     "execution_count": 71,
     "metadata": {},
     "output_type": "execute_result"
    }
   ],
   "source": [
    "import seaborn as sns\n",
    "sns.heatmap(A_tilde)"
   ]
  },
  {
   "cell_type": "code",
   "execution_count": null,
   "metadata": {},
   "outputs": [
    {
     "data": {
      "text/plain": [
       "<AxesSubplot:title={'center':'Dynamics'}>"
      ]
     },
     "execution_count": 72,
     "metadata": {},
     "output_type": "execute_result"
    }
   ],
   "source": [
    "sns.heatmap(dmd.atilde)"
   ]
  },
  {
   "cell_type": "code",
   "execution_count": null,
   "metadata": {},
   "outputs": [],
   "source": [
    "recon_error = abs(dmd.snapshots - dmd.reconstructed_data)/dmd.snapshots"
   ]
  },
  {
   "cell_type": "code",
   "execution_count": null,
   "metadata": {},
   "outputs": [
    {
     "data": {
      "text/plain": [
       "array([[-3.51666778e-03, -1.53289751e-02, -2.05704767e-02, ...,\n",
       "        -3.69575622e-02, -2.97576467e-02, -2.20111961e-02],\n",
       "       [-7.83732940e-03, -7.47693992e-04, -4.79763808e-03, ...,\n",
       "        -3.63779900e-02, -3.29132285e-02, -2.72973067e-02],\n",
       "       [-9.61339208e-04, -7.37694866e-04, -2.61634864e-03, ...,\n",
       "        -6.26384440e-03, -6.81525558e-03, -9.63594312e-03],\n",
       "       ...,\n",
       "       [-5.62734139e-03, -1.73449805e-03, -3.39987072e-03, ...,\n",
       "        -1.67059337e-02, -1.03610961e-02, -5.57715475e-03],\n",
       "       [-1.52266103e-03, -3.65937761e-03, -5.06890485e-05, ...,\n",
       "        -8.02624548e-03, -1.80681651e-03, -6.74446762e-03],\n",
       "       [-1.86506341e-03, -2.65978334e-03, -7.47823036e-03, ...,\n",
       "        -6.18401297e-03, -1.26817441e-04, -2.53738079e-03]])"
      ]
     },
     "execution_count": 74,
     "metadata": {},
     "output_type": "execute_result"
    }
   ],
   "source": [
    "recon_error"
   ]
  },
  {
   "cell_type": "code",
   "execution_count": null,
   "metadata": {},
   "outputs": [
    {
     "data": {
      "text/plain": [
       "<AxesSubplot:title={'center':'Dynamics'}>"
      ]
     },
     "execution_count": 75,
     "metadata": {},
     "output_type": "execute_result"
    }
   ],
   "source": [
    "sns.heatmap(recon_error)"
   ]
  },
  {
   "cell_type": "code",
   "execution_count": null,
   "metadata": {},
   "outputs": [
    {
     "data": {
      "text/plain": [
       "<AxesSubplot:>"
      ]
     },
     "execution_count": 80,
     "metadata": {},
     "output_type": "execute_result"
    },
    {
     "data": {
      "image/png": "[encoded data removed]",
      "text/plain": [
       "<Figure size 640x480 with 2 Axes>"
      ]
     },
     "metadata": {},
     "output_type": "display_data"
    }
   ],
   "source": [
    "#plt.pcolor(xgrid, tgrid, (X-dmd.reconstructed_data.T).real)\n",
    "#fig = plt.colorbar()\n",
    "recon_error2 = abs(data[:, 1:] - dmd.reconstructed_data)/data[:, 1:]\n",
    "sns.heatmap(recon_error2)"
   ]
  },
  {
   "cell_type": "code",
   "execution_count": null,
   "metadata": {},
   "outputs": [],
   "source": [
    "#plt.pcolor(xgrid, tgrid, (data-dmd.reconstructed_data.T).real)\n",
    "#fig = plt.colorbar()"
   ]
  },
  {
   "cell_type": "code",
   "execution_count": null,
   "metadata": {},
   "outputs": [
    {
     "data": {
      "text/plain": [
       "array([0., 1., 2., 3., 4., 5., 6., 7.])"
      ]
     },
     "execution_count": 82,
     "metadata": {},
     "output_type": "execute_result"
    }
   ],
   "source": [
    "x"
   ]
  },
  {
   "cell_type": "code",
   "execution_count": null,
   "metadata": {},
   "outputs": [
    {
     "data": {
      "text/plain": [
       "(997, 8)"
      ]
     },
     "execution_count": 83,
     "metadata": {},
     "output_type": "execute_result"
    }
   ],
   "source": [
    "xgrid.shape"
   ]
  },
  {
   "cell_type": "code",
   "execution_count": null,
   "metadata": {},
   "outputs": [
    {
     "data": {
      "text/plain": [
       "(997, 8)"
      ]
     },
     "execution_count": 84,
     "metadata": {},
     "output_type": "execute_result"
    }
   ],
   "source": [
    "tgrid.shape"
   ]
  },
  {
   "cell_type": "code",
   "execution_count": null,
   "metadata": {},
   "outputs": [
    {
     "data": {
      "text/plain": [
       "(8, 998)"
      ]
     },
     "execution_count": 85,
     "metadata": {},
     "output_type": "execute_result"
    }
   ],
   "source": [
    "data.shape"
   ]
  },
  {
   "cell_type": "code",
   "execution_count": null,
   "metadata": {},
   "outputs": [],
   "source": [
    "xgrid2, tgrid2 = np.meshgrid(x, np.linspace(0, 997, 998))"
   ]
  },
  {
   "cell_type": "code",
   "execution_count": null,
   "metadata": {},
   "outputs": [
    {
     "data": {
      "text/plain": [
       "(998, 8)"
      ]
     },
     "execution_count": 87,
     "metadata": {},
     "output_type": "execute_result"
    }
   ],
   "source": [
    "xgrid2.shape"
   ]
  },
  {
   "cell_type": "code",
   "execution_count": null,
   "metadata": {},
   "outputs": [
    {
     "data": {
      "image/png": "[encoded data removed]",
      "text/plain": [
       "<Figure size 640x480 with 2 Axes>"
      ]
     },
     "metadata": {},
     "output_type": "display_data"
    }
   ],
   "source": [
    "# Plotting original data in colormap\n",
    "#plt.style.use('seaborn-dark-palette')\n",
    "plt.pcolor(xgrid2, tgrid2, data.real.T)   \n",
    "    \n",
    "plt.colorbar()\n",
    "plt.show()"
   ]
  },
  {
   "cell_type": "code",
   "execution_count": null,
   "metadata": {},
   "outputs": [
    {
     "data": {
      "image/png": "[encoded data removed]",
      "text/plain": [
       "<Figure size 1700x600 with 4 Axes>"
      ]
     },
     "metadata": {},
     "output_type": "display_data"
    }
   ],
   "source": [
    "# Plotting d\n",
    "fig = plt.figure(figsize=(17,6))\n",
    "\n",
    "for n, mode, dynamic in zip(range(131, 133), dmd.modes.T, dmd.dynamics):\n",
    "    plt.subplot(n)\n",
    "    plt.pcolor(xgrid, tgrid, (mode.reshape(-1, 1).dot(dynamic.reshape(1, -1))).real.T)\n",
    "    \n",
    "plt.subplot(133)\n",
    "plt.pcolor(xgrid, tgrid, dmd.reconstructed_data.T.real)\n",
    "plt.colorbar()\n",
    "\n",
    "plt.show()"
   ]
  },
  {
   "cell_type": "code",
   "execution_count": null,
   "metadata": {},
   "outputs": [
    {
     "data": {
      "text/plain": [
       "<matplotlib.colorbar.Colorbar at 0x7f25936015a0>"
      ]
     },
     "execution_count": 90,
     "metadata": {},
     "output_type": "execute_result"
    },
    {
     "data": {
      "image/png": "[encoded data removed]",
      "text/plain": [
       "<Figure size 640x480 with 2 Axes>"
      ]
     },
     "metadata": {},
     "output_type": "display_data"
    }
   ],
   "source": [
    "# Ground truth connections\n",
    "# conn_probs = np.array(\n",
    "#             [[0.1009, 0.1689, 0.0437, 0.0818, 0.0323, 0., 0.0076, 0.],\n",
    "#              [0.1346, 0.1371, 0.0316, 0.0515, 0.0755, 0., 0.0042, 0.],\n",
    "#              [0.0077, 0.0059, 0.0497, 0.135, 0.0067, 0.0003, 0.0453, 0.],\n",
    "#              [0.0691, 0.0029, 0.0794, 0.1597, 0.0033, 0., 0.1057, 0.],\n",
    "#              [0.1004, 0.0622, 0.0505, 0.0057, 0.0831, 0.3726, 0.0204, 0.],\n",
    "#              [0.0548, 0.0269, 0.0257, 0.0022, 0.06, 0.3158, 0.0086, 0.],\n",
    "#              [0.0156, 0.0066, 0.0211, 0.0166, 0.0572, 0.0197, 0.0396, 0.2252],\n",
    "#              [0.0364, 0.001, 0.0034, 0.0005, 0.0277, 0.008, 0.0658, 0.1443]])\n",
    "\n",
    "\n",
    "cons = [[0.51,  -1.000, 0.454, -0.433, 0.037, -0.000, 0.025, -0.000],\n",
    "         [0.195, -0.225, 0.046, -0.076, 0.025, -0.000, 0.004, -0.000],\n",
    "         [0.039, -0.034, 0.274, -0.780, 0.008, -0.000, 0.164, -0.000],\n",
    "         [0.091, -0.004, 0.111, -0.234, 0.001, -0.000, 0.099, -0.000],\n",
    "         [0.119, -0.081, 0.062, -0.007, 0.023, -0.108, 0.016, -0.000],\n",
    "         [0.014, -0.008, 0.007, -0.001, 0.004, -0.019, 0.001, -0.000],\n",
    "         [0.052, -0.025, 0.075, -0.059, 0.046, -0.014, 0.094, -0.485],\n",
    "         [0.025, -0.001, 0.002, -0.000, 0.004, -0.001, 0.032, -0.061]]\n",
    "\n",
    "plt.figure()\n",
    "plt.imshow(cons, cmap='bwr', vmin=-1, vmax=1)\n",
    "plt.colorbar()\n",
    "\n",
    "#sns.heatmap(cons)"
   ]
  },
  {
   "cell_type": "code",
   "execution_count": null,
   "metadata": {},
   "outputs": [
    {
     "name": "stderr",
     "output_type": "stream",
     "text": [
      "/opt/conda/envs/nest_env/lib/python3.10/site-packages/scipy/linalg/_matfuncs_inv_ssq.py:827: LogmExactlySingularWarning:The logm input matrix is exactly singular.\n"
     ]
    },
    {
     "data": {
      "text/plain": [
       "<matplotlib.colorbar.Colorbar at 0x7f25934c5960>"
      ]
     },
     "execution_count": 91,
     "metadata": {},
     "output_type": "execute_result"
    },
    {
     "data": {
      "image/png": "[encoded data removed]",
      "text/plain": [
       "<Figure size 640x480 with 2 Axes>"
      ]
     },
     "metadata": {},
     "output_type": "display_data"
    }
   ],
   "source": [
    "import scipy as sc\n",
    "A_cont = np.real(sc.linalg.logm(np.real(A)))\n",
    "#A_cont = np.real(A)\n",
    "A_cont_scaled = A_cont / np.linalg.norm(A_cont)\n",
    "\n",
    "#sns.heatmap(A_cont_scaled)\n",
    "plt.figure()\n",
    "plt.imshow(A_cont_scaled, cmap='bwr', vmin=-1, vmax=1)\n",
    "plt.colorbar()"
   ]
  },
  {
   "cell_type": "code",
   "execution_count": null,
   "metadata": {},
   "outputs": [
    {
     "data": {
      "text/plain": [
       "0.1682016634223366"
      ]
     },
     "execution_count": 92,
     "metadata": {},
     "output_type": "execute_result"
    }
   ],
   "source": [
    "from simulate_network import evaluate\n",
    "evaluate(A_cont_scaled)"
   ]
  },
  {
   "cell_type": "code",
   "execution_count": 49,
   "metadata": {},
   "outputs": [
    {
     "data": {
      "text/plain": [
       "0.3887455039560361"
      ]
     },
     "execution_count": 93,
     "metadata": {},
     "output_type": "execute_result"
    }
   ],
   "source": [
    "scores = []\n",
    "\n",
    "for i in range(1000):\n",
    "    random_vals = (np.random.rand(8,8) - 0.5) * 2\n",
    "    scores.append(evaluate(random_vals))\n",
    "    \n",
    "np.mean(scores)\n",
    "#plt.figure()\n",
    "#plt.imshow(random_vals, cmap='bwr', vmin=-1, vmax=1)\n",
    "#plt.colorbar()"
   ]
  },
  {
   "cell_type": "code",
   "execution_count": 50,
   "metadata": {},
   "outputs": [
    {
     "data": {
      "text/plain": [
       "1.0757362968750002"
      ]
     },
     "execution_count": 94,
     "metadata": {},
     "output_type": "execute_result"
    }
   ],
   "source": [
    "evaluate(np.zeros([8,8]))"
   ]
  },
  {
   "cell_type": "code",
   "execution_count": 45,
   "metadata": {},
   "outputs": [
    {
     "data": {
      "text/plain": [
       "0.32752121207359736"
      ]
     },
     "execution_count": 95,
     "metadata": {},
     "output_type": "execute_result"
    }
   ],
   "source": [
    "evaluate(random_vals)"
   ]
  },
  {
   "cell_type": "code",
   "execution_count": 35,
   "metadata": {},
   "outputs": [
    {
     "data": {
      "text/plain": [
       "[0.19169112074595834,\n",
       " 0.1682016634223366,\n",
       " 0.17766301708066598,\n",
       " 0.21669847810375875,\n",
       " 0.23096935142565705,\n",
       " 0.24899269729505635,\n",
       " 0.2850575515306071,\n",
       " 0.2002583416229522]"
      ]
     },
     "execution_count": 96,
     "metadata": {},
     "output_type": "execute_result"
    }
   ],
   "source": [
    "# looping over nr. of modes to find the one giving the lowest MSE\n",
    "\n",
    "errors = []\n",
    "for i in range(1,9):\n",
    "    A_tilde, Phi, A = DMD2(data, i)\n",
    "    A_cont = np.real(sc.linalg.logm(np.real(A)))\n",
    "    A_cont_scaled = A_cont / np.linalg.norm(A_cont)\n",
    "    errors.append(evaluate(A_cont_scaled))\n",
    "\n",
    "errors"
   ]
  },
  {
   "cell_type": "code",
   "execution_count": null,
   "metadata": {},
   "outputs": [
    {
     "data": {
      "text/plain": [
       "[<matplotlib.lines.Line2D at 0x7f2593581450>]"
      ]
     },
     "execution_count": 97,
     "metadata": {},
     "output_type": "execute_result"
    },
    {
     "data": {
      "image/png": "[encoded data removed]",
      "text/plain": [
       "<Figure size 640x480 with 1 Axes>"
      ]
     },
     "metadata": {},
     "output_type": "display_data"
    }
   ],
   "source": [
    "plt.plot(errors)"
   ]
  },
  {
   "cell_type": "code",
   "execution_count": null,
   "metadata": {},
   "outputs": [
    {
     "data": {
      "text/plain": [
       "<AxesSubplot:>"
      ]
     },
     "execution_count": 98,
     "metadata": {},
     "output_type": "execute_result"
    },
    {
     "data": {
      "image/png": "[encoded data removed]",
      "text/plain": [
       "<Figure size 640x480 with 2 Axes>"
      ]
     },
     "metadata": {},
     "output_type": "display_data"
    }
   ],
   "source": [
    "sns.heatmap(A_cont_scaled)"
   ]
  },
  {
   "cell_type": "code",
   "execution_count": null,
   "metadata": {},
   "outputs": [],
   "source": [
    "#!{sys.executable} -m pip install pyyeti \n",
    "#import pyyeti as pyyeti;"
   ]
  },
  {
   "cell_type": "code",
   "execution_count": null,
   "metadata": {},
   "outputs": [],
   "source": [
    "#A_disc = pyyeti.d2c(A)"
   ]
  },
  {
   "cell_type": "code",
   "execution_count": null,
   "metadata": {},
   "outputs": [],
   "source": [
    "#pyyeti.ssmodel.SSModel.d2c(A)"
   ]
  },
  {
   "cell_type": "code",
   "execution_count": null,
   "metadata": {},
   "outputs": [],
   "source": [
    "#data_long = run_simulation(t_sim=12000, stim_strength=50, stim_start=500, stim_dur=10, population=0, output='V_m')\n"
   ]
  },
  {
   "cell_type": "code",
   "execution_count": null,
   "metadata": {},
   "outputs": [
    {
     "data": {
      "text/plain": [
       "<matplotlib.colorbar.Colorbar at 0x7f25934b18d0>"
      ]
     },
     "execution_count": 103,
     "metadata": {},
     "output_type": "execute_result"
    },
    {
     "data": {
      "image/png": "[encoded data removed]",
      "text/plain": [
       "<Figure size 640x480 with 2 Axes>"
      ]
     },
     "metadata": {},
     "output_type": "display_data"
    }
   ],
   "source": [
    "plt.figure()\n",
    "plt.imshow(cons, cmap='bwr', vmin=-1, vmax=1)\n",
    "plt.colorbar()"
   ]
  },
  {
   "cell_type": "code",
   "execution_count": null,
   "metadata": {},
   "outputs": [
    {
     "ename": "NameError",
     "evalue": "name 'data_lpf' is not defined",
     "output_type": "error",
     "traceback": [
      "\u001b[0;31m---------------------------------------------------------------------------\u001b[0m",
      "\u001b[0;31mNameError\u001b[0m                                 Traceback (most recent call last)",
      "Input \u001b[0;32mIn [104]\u001b[0m, in \u001b[0;36m<cell line: 3>\u001b[0;34m()\u001b[0m\n\u001b[1;32m      2\u001b[0m data_resampled \u001b[38;5;241m=\u001b[39m []\n\u001b[1;32m      3\u001b[0m \u001b[38;5;28;01mfor\u001b[39;00m i \u001b[38;5;129;01min\u001b[39;00m \u001b[38;5;28mrange\u001b[39m(\u001b[38;5;241m0\u001b[39m, \u001b[38;5;241m1000\u001b[39m, \u001b[38;5;241m12\u001b[39m):\n\u001b[0;32m----> 4\u001b[0m     data_resampled\u001b[38;5;241m.\u001b[39mappend(\u001b[43mdata_lpf\u001b[49m[:, i])\n\u001b[1;32m      6\u001b[0m data_resampled \u001b[38;5;241m=\u001b[39m np\u001b[38;5;241m.\u001b[39marray(data_resampled)\u001b[38;5;241m.\u001b[39mT\n",
      "\u001b[0;31mNameError\u001b[0m: name 'data_lpf' is not defined"
     ]
    }
   ],
   "source": [
    "# resampling data at every 12th timestep\n",
    "data_resampled = []\n",
    "for i in range(0, 1000, 12):\n",
    "    data_resampled.append(data_lpf[:, i])\n",
    "\n",
    "data_resampled = np.array(data_resampled).T"
   ]
  },
  {
   "cell_type": "code",
   "execution_count": null,
   "metadata": {},
   "outputs": [],
   "source": [
    "data_resampled.shape"
   ]
  },
  {
   "cell_type": "code",
   "execution_count": null,
   "metadata": {},
   "outputs": [],
   "source": [
    "import scipy as sc"
   ]
  },
  {
   "cell_type": "code",
   "execution_count": null,
   "metadata": {},
   "outputs": [],
   "source": [
    "# Koopman matrix, eigenvalues, and coefficient matrix.\n",
    "A_tilde_r, Phi_r, A_r = DMD2(data_resampled, 8)"
   ]
  },
  {
   "cell_type": "code",
   "execution_count": null,
   "metadata": {},
   "outputs": [],
   "source": [
    "plt.figure()\n",
    "plt.imshow(cons, cmap='bwr', vmin=-1, vmax=1)\n",
    "plt.colorbar()"
   ]
  },
  {
   "cell_type": "code",
   "execution_count": null,
   "metadata": {
    "tags": []
   },
   "outputs": [],
   "source": [
    "A_cont = np.real(sc.linalg.logm(np.real(A_r)))\n",
    "#A_cont = np.real(A)\n",
    "A_cont_scaled = A_cont / np.linalg.norm(A_cont)\n",
    "\n",
    "#sns.heatmap(A_cont_scaled)\n",
    "plt.figure()\n",
    "plt.imshow(A_cont_scaled, cmap='bwr', vmin=-1, vmax=1)\n",
    "plt.colorbar()\n",
    "plt.show()"
   ]
  },
  {
   "cell_type": "code",
   "execution_count": null,
   "metadata": {},
   "outputs": [],
   "source": [
    "A_tilde_cont = np.real(sc.linalg.logm(np.real(A_tilde_r)))\n",
    "#A_cont = np.real(A)\n",
    "A_tilde_cont_scaled = A_tilde_cont / np.linalg.norm(A_tilde_cont)\n",
    "\n",
    "#sns.heatmap(A_cont_scaled)\n",
    "plt.figure()\n",
    "plt.imshow(A_tilde_cont_scaled, cmap='bwr', vmin=-1, vmax=1)\n",
    "plt.colorbar()\n",
    "plt.show()"
   ]
  },
  {
   "cell_type": "code",
   "execution_count": null,
   "metadata": {},
   "outputs": [],
   "source": [
    "evaluate(A_tilde_cont_scaled)"
   ]
  },
  {
   "cell_type": "code",
   "execution_count": null,
   "metadata": {},
   "outputs": [],
   "source": [
    "fig, axes = plt.subplots(ncols=2, figsize=(8, 4))\n",
    "\n",
    "ax1, ax2 = axes\n",
    "\n",
    "im1 = ax1.matshow(cons, cmap='bwr', vmin=-1, vmax=1)\n",
    "im2 = ax2.matshow(A_cont_scaled, cmap='bwr', vmin=-1, vmax=1)\n",
    "\n",
    "fig.colorbar(im1, ax=ax1)\n",
    "fig.colorbar(im2, ax=ax2)\n",
    "\n",
    "#plt.imshow(im1, cmap='bwr', vmin=-1, vmax=1)\n",
    "\n",
    "#fig.colorbar(cm.ScalarMappable(norm=norm, cmap=cmap), ax=ax)"
   ]
  },
  {
   "cell_type": "code",
   "execution_count": null,
   "metadata": {},
   "outputs": [],
   "source": [
    "evaluate(A_cont_scaled)"
   ]
  },
  {
   "cell_type": "code",
   "execution_count": null,
   "metadata": {},
   "outputs": [],
   "source": [
    "sns.heatmap(A_tilde_r)"
   ]
  },
  {
   "cell_type": "code",
   "execution_count": null,
   "metadata": {},
   "outputs": [],
   "source": [
    "evaluate(A_tilde_r)"
   ]
  },
  {
   "cell_type": "code",
   "execution_count": null,
   "metadata": {},
   "outputs": [],
   "source": [
    "#evaluate(np.zeros([8,8]) + np.ones([8,8])*1e-06)"
   ]
  },
  {
   "cell_type": "code",
   "execution_count": null,
   "metadata": {},
   "outputs": [],
   "source": []
  }
 ],
 "metadata": {
  "kernelspec": {
   "display_name": "Python [conda env:nest_env]",
   "language": "python",
   "name": "conda-env-nest_env-py"
  },
  "language_info": {
   "codemirror_mode": {
    "name": "ipython",
    "version": 3
   },
   "file_extension": ".py",
   "mimetype": "text/x-python",
   "name": "python",
   "nbconvert_exporter": "python",
   "pygments_lexer": "ipython3",
   "version": "3.10.6"
  }
 },
 "nbformat": 4,
 "nbformat_minor": 4
}
